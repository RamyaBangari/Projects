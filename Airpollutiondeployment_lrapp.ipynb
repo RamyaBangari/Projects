{
 "cells": [
  {
   "cell_type": "code",
   "execution_count": 49,
   "id": "5c654ea7",
   "metadata": {},
   "outputs": [],
   "source": [
    "import pandas as pd\n",
    "import numpy as np\n",
    "import streamlit as st"
   ]
  },
  {
   "cell_type": "code",
   "execution_count": 50,
   "id": "09a7f5b8",
   "metadata": {},
   "outputs": [],
   "source": [
    "st.title(\"Prediction Air Quality Index\")\n",
    "st.markdown(\"Model to Predict Aqi in india\")\n",
    "\n",
    "st.header(\"Air Features\")\n",
    "col1,col2,col3,col4,col5=st.columns(5)\n",
    "with col1:\n",
    "    co= st.slider(\"co\",174,23072,250)# minimum is 2 -lower limit,slider move by 1\n",
    "    no=st.slider(\" no\",0,458,10)# max is 8-upper limit\n",
    "with col2:\n",
    "    no2=st.slider(\"no2\",0,332,10)\n",
    "    o3=st.slider(\"o3\",0,407,10)\n",
    "with col3:\n",
    "    so2= st.slider(\"so2\",0,443,20)\n",
    "    #date= st.slider(\"date\",'01-01-2021','31-12-2022',1)\n",
    "with col4:\n",
    "    pm2_5=st.slider(\"pm2_5\",0,2204,50)\n",
    "    pm10=st.slider(\"pm10\",0,2430,50)\n",
    "with col5:\n",
    "    nh3=st.slider(\"nh3\",0,353,50)"
   ]
  },
  {
   "cell_type": "code",
   "execution_count": 51,
   "id": "896c4861",
   "metadata": {},
   "outputs": [],
   "source": [
    "if st.button(\"Predict Aqi in india\"):\n",
    "    result=predict(np.array([['date', 'aqi', 'co', 'no', 'no2', 'o3', 'so2', 'pm2_5', 'pm10',\n",
    "       'nh3']]))\n",
    "    st.text(result[0])"
   ]
  },
  {
   "cell_type": "code",
   "execution_count": null,
   "id": "457692e3",
   "metadata": {},
   "outputs": [],
   "source": []
  },
  {
   "cell_type": "code",
   "execution_count": null,
   "id": "4d12ad59",
   "metadata": {},
   "outputs": [],
   "source": []
  },
  {
   "cell_type": "code",
   "execution_count": null,
   "id": "c5eb8a2f",
   "metadata": {},
   "outputs": [],
   "source": []
  },
  {
   "cell_type": "code",
   "execution_count": null,
   "id": "a01c2060",
   "metadata": {},
   "outputs": [],
   "source": []
  },
  {
   "cell_type": "code",
   "execution_count": null,
   "id": "a49c2864",
   "metadata": {},
   "outputs": [],
   "source": []
  },
  {
   "cell_type": "code",
   "execution_count": null,
   "id": "002a43d3",
   "metadata": {},
   "outputs": [],
   "source": []
  },
  {
   "cell_type": "code",
   "execution_count": null,
   "id": "0a71466b",
   "metadata": {},
   "outputs": [],
   "source": []
  },
  {
   "cell_type": "code",
   "execution_count": null,
   "id": "2ad45acd",
   "metadata": {},
   "outputs": [],
   "source": []
  },
  {
   "cell_type": "code",
   "execution_count": null,
   "id": "f75d5657",
   "metadata": {},
   "outputs": [],
   "source": []
  }
 ],
 "metadata": {
  "kernelspec": {
   "display_name": "Python 3 (ipykernel)",
   "language": "python",
   "name": "python3"
  },
  "language_info": {
   "codemirror_mode": {
    "name": "ipython",
    "version": 3
   },
   "file_extension": ".py",
   "mimetype": "text/x-python",
   "name": "python",
   "nbconvert_exporter": "python",
   "pygments_lexer": "ipython3",
   "version": "3.11.5"
  }
 },
 "nbformat": 4,
 "nbformat_minor": 5
}
