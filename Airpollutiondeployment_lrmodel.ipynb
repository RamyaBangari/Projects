{
 "cells": [
  {
   "cell_type": "code",
   "execution_count": 34,
   "id": "5b49e6b9",
   "metadata": {},
   "outputs": [],
   "source": [
    "import streamlit as st\n",
    "import pandas as pd\n",
    "from sklearn.linear_model import LinearRegression\n",
    "from sklearn.model_selection import train_test_split\n",
    "from sklearn.metrics import mean_squared_error\n",
    "\n",
    "# Load your dataset\n",
    "df = pd.read_csv(r'C:\\Users\\banga\\OneDrive\\Desktop\\Forecasting\\archive (1)\\air_pollution_data.csv')\n",
    "\n",
    "# Split the data into train and test sets\n",
    "train_df, test_df = train_test_split(df, test_size=30, shuffle=False)  # Last 30 days for test\n",
    "\n",
    "features = ['co', 'no', 'no2', 'o3', 'so2', 'pm2_5', 'pm10', 'nh3']\n",
    "target = 'aqi'\n",
    "\n",
    "# Train the linear regression model\n",
    "linear_regressor = LinearRegression()\n",
    "linear_regressor.fit(train_df[features], train_df[target])\n",
    "\n",
    "# Make predictions on the test set\n",
    "test_predictions = linear_regressor.predict(test_df[features])\n",
    "\n",
    "# Calculate Mean Squared Error\n",
    "mse = mean_squared_error(test_df[target], test_predictions)\n",
    "\n",
    "# Display the Streamlit app\n",
    "st.title('Linear Regression Model')\n",
    "st.write('Mean Squared Error:', mse)"
   ]
  },
  {
   "cell_type": "code",
   "execution_count": 35,
   "id": "010c5e9a",
   "metadata": {},
   "outputs": [],
   "source": [
    "import joblib"
   ]
  },
  {
   "cell_type": "code",
   "execution_count": 36,
   "id": "56717d90",
   "metadata": {},
   "outputs": [
    {
     "data": {
      "text/plain": [
       "['linear_regressor.sav']"
      ]
     },
     "execution_count": 36,
     "metadata": {},
     "output_type": "execute_result"
    }
   ],
   "source": [
    "joblib.dump(linear_regressor,\"linear_regressor.sav\")"
   ]
  },
  {
   "cell_type": "code",
   "execution_count": null,
   "id": "9448abd7",
   "metadata": {},
   "outputs": [],
   "source": []
  },
  {
   "cell_type": "code",
   "execution_count": null,
   "id": "764050bd",
   "metadata": {},
   "outputs": [],
   "source": []
  },
  {
   "cell_type": "code",
   "execution_count": null,
   "id": "beba6334",
   "metadata": {},
   "outputs": [],
   "source": []
  },
  {
   "cell_type": "code",
   "execution_count": null,
   "id": "60597354",
   "metadata": {},
   "outputs": [],
   "source": []
  },
  {
   "cell_type": "code",
   "execution_count": null,
   "id": "74552148",
   "metadata": {},
   "outputs": [],
   "source": []
  },
  {
   "cell_type": "code",
   "execution_count": null,
   "id": "2246cfc2",
   "metadata": {},
   "outputs": [],
   "source": []
  }
 ],
 "metadata": {
  "kernelspec": {
   "display_name": "Python 3 (ipykernel)",
   "language": "python",
   "name": "python3"
  },
  "language_info": {
   "codemirror_mode": {
    "name": "ipython",
    "version": 3
   },
   "file_extension": ".py",
   "mimetype": "text/x-python",
   "name": "python",
   "nbconvert_exporter": "python",
   "pygments_lexer": "ipython3",
   "version": "3.11.5"
  }
 },
 "nbformat": 4,
 "nbformat_minor": 5
}
